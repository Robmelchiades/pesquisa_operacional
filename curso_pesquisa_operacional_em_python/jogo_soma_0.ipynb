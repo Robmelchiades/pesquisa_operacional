{
 "cells": [
  {
   "cell_type": "code",
   "execution_count": 1,
   "metadata": {},
   "outputs": [],
   "source": [
    "from pulp import *\n",
    "#Dados do problema\n",
    "#           b1  b2 b3\n",
    "retorno = [[30,-10,-30], #Muito pesado A\n",
    "           [0,-40,10],    # Médio A\n",
    "           [-50,60,0]]  # Leve A\n",
    "\n",
    "estrategiaA = [0,1,2]\n",
    "estrategiaB = [0,1,2]"
   ]
  },
  {
   "cell_type": "code",
   "execution_count": 2,
   "metadata": {},
   "outputs": [],
   "source": [
    "#Criação das variáveis de decisão\n",
    "var = LpVariable.dict(\"A\",(estrategiaA),lowBound=0)\n",
    "v = LpVariable('v')"
   ]
  },
  {
   "cell_type": "code",
   "execution_count": 3,
   "metadata": {},
   "outputs": [
    {
     "name": "stdout",
     "output_type": "stream",
     "text": [
      "Jogo_soma_zero:\n",
      "MAXIMIZE\n",
      "None\n",
      "VARIABLES\n",
      "\n"
     ]
    }
   ],
   "source": [
    "#Criação do modelo\n",
    "model = LpProblem(\"Jogo_soma_zero\",LpMaximize)\n",
    "print(model)"
   ]
  },
  {
   "cell_type": "code",
   "execution_count": 4,
   "metadata": {},
   "outputs": [
    {
     "name": "stdout",
     "output_type": "stream",
     "text": [
      "Jogo_soma_zero:\n",
      "MAXIMIZE\n",
      "1*v + 0\n",
      "VARIABLES\n",
      "v free Continuous\n",
      "\n"
     ]
    }
   ],
   "source": [
    "# Criação da função objetivo\n",
    "model += v\n",
    "print(model)"
   ]
  },
  {
   "cell_type": "code",
   "execution_count": 5,
   "metadata": {},
   "outputs": [
    {
     "name": "stdout",
     "output_type": "stream",
     "text": [
      "Jogo_soma_zero:\n",
      "MAXIMIZE\n",
      "1*v + 0\n",
      "SUBJECT TO\n",
      "_C1: - 30 A_0 + 50 A_2 + v = 0\n",
      "\n",
      "_C2: 10 A_0 + 40 A_1 - 60 A_2 + v = 0\n",
      "\n",
      "_C3: 30 A_0 - 10 A_1 + v = 0\n",
      "\n",
      "_C4: A_0 + A_1 + A_2 = 1\n",
      "\n",
      "VARIABLES\n",
      "A_0 Continuous\n",
      "A_1 Continuous\n",
      "A_2 Continuous\n",
      "v free Continuous\n",
      "\n"
     ]
    }
   ],
   "source": [
    "#Criação das restrições\n",
    "lista_rest = []\n",
    "\n",
    "for j in estrategiaB:\n",
    "    for i in estrategiaA:\n",
    "        lista_rest.append(var[i]*retorno[i][j])\n",
    "    model += v - lpSum(lista_rest) ==0\n",
    "    lista_rest = []\n",
    "\n",
    "\n",
    "for x in var.values():\n",
    "    lista_rest.append(x)\n",
    "    \n",
    "model += lpSum(lista_rest) == 1\n",
    "print(model)"
   ]
  },
  {
   "cell_type": "code",
   "execution_count": 6,
   "metadata": {},
   "outputs": [
    {
     "name": "stdout",
     "output_type": "stream",
     "text": [
      "Optimal\n",
      "O valor do jogo é -4.4761905\n",
      "A_0 = 0.2952381\n",
      "A_1 = 0.43809524\n",
      "A_2 = 0.26666667\n",
      "Jogo_soma_zero:\n",
      "MAXIMIZE\n",
      "1*v + 0\n",
      "SUBJECT TO\n",
      "_C1: - 30 A_0 + 50 A_2 + v = 0\n",
      "\n",
      "_C2: 10 A_0 + 40 A_1 - 60 A_2 + v = 0\n",
      "\n",
      "_C3: 30 A_0 - 10 A_1 + v = 0\n",
      "\n",
      "_C4: A_0 + A_1 + A_2 = 1\n",
      "\n",
      "VARIABLES\n",
      "A_0 Continuous\n",
      "A_1 Continuous\n",
      "A_2 Continuous\n",
      "v free Continuous\n",
      "\n"
     ]
    }
   ],
   "source": [
    "#Solução do modelo\n",
    "status = model.solve()\n",
    "print(LpStatus[status])\n",
    "print(f'O valor do jogo é {value(model.objective)}')\n",
    "\n",
    "for x in var.values():\n",
    "    print(f'{x} = {value(x)}')\n",
    "\n",
    "print(model)"
   ]
  }
 ],
 "metadata": {
  "interpreter": {
   "hash": "3723a0a9dcf23df9112b0fb5bc0b09bccbbd59c51fa5099ddf2c0466acf46b14"
  },
  "kernelspec": {
   "display_name": "Python 3.9.7 ('web_scraper')",
   "language": "python",
   "name": "python3"
  },
  "language_info": {
   "codemirror_mode": {
    "name": "ipython",
    "version": 3
   },
   "file_extension": ".py",
   "mimetype": "text/x-python",
   "name": "python",
   "nbconvert_exporter": "python",
   "pygments_lexer": "ipython3",
   "version": "3.10.4"
  },
  "orig_nbformat": 4
 },
 "nbformat": 4,
 "nbformat_minor": 2
}
