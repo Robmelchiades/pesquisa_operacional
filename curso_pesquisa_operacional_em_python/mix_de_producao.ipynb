{
 "cells": [
  {
   "cell_type": "code",
   "execution_count": 1,
   "metadata": {},
   "outputs": [],
   "source": [
    "from pulp import *\n",
    "# Dados do Problema\n",
    "tempos =[[2,5,5,0,0],\n",
    "         [5,5,0,2,2],\n",
    "         [6,7,0,10,2],\n",
    "         [0,0,4,2,0],\n",
    "         [0,1,7,0,0],\n",
    "         [0,0,3,0,4],\n",
    "         [0,5,2,0,4],\n",
    "         [0,0,10,0,1],\n",
    "         [0,4,3,8,0],\n",
    "         [3,0,0,0,3]]\n",
    "\n",
    "produto = [0,1,2,3,4,5,6,7,8,9]\n",
    "\n",
    "maximo = {0:300.5,\n",
    "            1:200.5,\n",
    "            2:150,\n",
    "            3:180,\n",
    "            4:220,\n",
    "            5:200.5,\n",
    "            6:160,\n",
    "            7:300,\n",
    "            8:150,\n",
    "            9:200}\n",
    "\n",
    "lucro =  {0:1.2,\n",
    "            1:2.3,\n",
    "            2:3.4,\n",
    "            3:2,\n",
    "            4:3,\n",
    "            5:1.9,\n",
    "            6:0.6,\n",
    "            7:1,\n",
    "            8:2,\n",
    "            9:3}\n",
    "\n",
    "capacidades = {0:4000,\n",
    "               1:5000,\n",
    "               2:3000,\n",
    "               3:7000,\n",
    "               4:2500}\n",
    "\n",
    "volume_total = 1000"
   ]
  },
  {
   "cell_type": "code",
   "execution_count": 2,
   "metadata": {},
   "outputs": [],
   "source": [
    "#Criação das variáveis de decisão\n",
    "var = LpVariable.dict(\"C\",(produto),lowBound = 0)"
   ]
  },
  {
   "cell_type": "code",
   "execution_count": 3,
   "metadata": {},
   "outputs": [],
   "source": [
    "#Criação do modelo\n",
    "model = LpProblem(\"Problema_mix_produção\",LpMaximize)"
   ]
  },
  {
   "cell_type": "code",
   "execution_count": 4,
   "metadata": {},
   "outputs": [],
   "source": [
    "#Criação da função objetivo\n",
    "lista_fo = []\n",
    "\n",
    "for x in produto:\n",
    "    lista_fo.append(var[x]*lucro[x])\n",
    "\n",
    "model += lpSum(lista_fo)"
   ]
  },
  {
   "cell_type": "code",
   "execution_count": 5,
   "metadata": {},
   "outputs": [
    {
     "name": "stdout",
     "output_type": "stream",
     "text": [
      "Problema_mix_produção:\n",
      "MAXIMIZE\n",
      "1.2*C_0 + 2.3*C_1 + 3.4*C_2 + 2*C_3 + 3*C_4 + 1.9*C_5 + 0.6*C_6 + 1*C_7 + 2*C_8 + 3*C_9 + 0.0\n",
      "SUBJECT TO\n",
      "_C1: 2 C_0 + 5 C_1 + 6 C_2 + 3 C_9 <= 4000\n",
      "\n",
      "_C2: 5 C_0 + 5 C_1 + 7 C_2 + C_4 + 5 C_6 + 4 C_8 <= 5000\n",
      "\n",
      "_C3: 5 C_0 + 4 C_3 + 7 C_4 + 3 C_5 + 2 C_6 + 10 C_7 + 3 C_8 <= 3000\n",
      "\n",
      "_C4: 2 C_1 + 10 C_2 + 2 C_3 + 8 C_8 <= 7000\n",
      "\n",
      "_C5: 2 C_1 + 2 C_2 + 4 C_5 + 4 C_6 + C_7 + 3 C_9 <= 2500\n",
      "\n",
      "_C6: C_0 <= 300.5\n",
      "\n",
      "_C7: C_1 <= 200.5\n",
      "\n",
      "_C8: C_2 <= 150\n",
      "\n",
      "_C9: C_3 <= 180\n",
      "\n",
      "_C10: C_4 <= 220\n",
      "\n",
      "_C11: C_5 <= 200.5\n",
      "\n",
      "_C12: C_6 <= 160\n",
      "\n",
      "_C13: C_7 <= 300\n",
      "\n",
      "_C14: C_8 <= 150\n",
      "\n",
      "_C15: C_9 <= 200\n",
      "\n",
      "_C16: C_0 + C_1 + C_2 + C_3 + C_4 + C_5 + C_6 + C_7 + C_8 + C_9 <= 1000\n",
      "\n",
      "VARIABLES\n",
      "C_0 Continuous\n",
      "C_1 Continuous\n",
      "C_2 Continuous\n",
      "C_3 Continuous\n",
      "C_4 Continuous\n",
      "C_5 Continuous\n",
      "C_6 Continuous\n",
      "C_7 Continuous\n",
      "C_8 Continuous\n",
      "C_9 Continuous\n",
      "\n"
     ]
    }
   ],
   "source": [
    "# Criação das restrições\n",
    "lista_rest = []\n",
    "for i in capacidades.keys():\n",
    "    for j in produto:\n",
    "        if tempos[j][i]!=0:\n",
    "            lista_rest.append(var[j]*tempos[j][i])\n",
    "        else:\n",
    "            None\n",
    "    model+= lpSum(lista_rest)<= capacidades[i]\n",
    "    lista_rest = []\n",
    "\n",
    "for x in var.keys():\n",
    "    model += var[x] <= maximo[x]\n",
    "    \n",
    "\n",
    "for x in var.values():\n",
    "    lista_rest.append(x)\n",
    "\n",
    "model+= lpSum(lista_rest) <= volume_total\n",
    "\n",
    "print(model)"
   ]
  },
  {
   "cell_type": "code",
   "execution_count": 6,
   "metadata": {},
   "outputs": [
    {
     "name": "stdout",
     "output_type": "stream",
     "text": [
      "Optimal\n",
      "Lucro = R$2690.15\n"
     ]
    }
   ],
   "source": [
    "#Solução do modelo\n",
    "\n",
    "status = model.solve()\n",
    "print(LpStatus[status])\n",
    "print(f'Lucro = R${value(model.objective)}')"
   ]
  },
  {
   "cell_type": "code",
   "execution_count": 7,
   "metadata": {},
   "outputs": [
    {
     "name": "stdout",
     "output_type": "stream",
     "text": [
      "C_1 = 200.5\n",
      "C_2 = 150.0\n",
      "C_3 = 79.5\n",
      "C_4 = 220.0\n",
      "C_8 = 150.0\n",
      "C_9 = 200.0\n"
     ]
    }
   ],
   "source": [
    "for x in var.values():\n",
    "    if value(x) != 0:\n",
    "        print(f'{x} = {value(x)}')"
   ]
  },
  {
   "cell_type": "code",
   "execution_count": null,
   "metadata": {},
   "outputs": [],
   "source": []
  }
 ],
 "metadata": {
  "interpreter": {
   "hash": "cc1c0b36499cb045c8568e3ecab36d39122abfe8d569ffdfecaa4fcf3bb0ec3c"
  },
  "kernelspec": {
   "display_name": "Python 3.10.4 ('pesquisa_operacional')",
   "language": "python",
   "name": "python3"
  },
  "language_info": {
   "codemirror_mode": {
    "name": "ipython",
    "version": 3
   },
   "file_extension": ".py",
   "mimetype": "text/x-python",
   "name": "python",
   "nbconvert_exporter": "python",
   "pygments_lexer": "ipython3",
   "version": "3.10.4"
  },
  "orig_nbformat": 4
 },
 "nbformat": 4,
 "nbformat_minor": 2
}
