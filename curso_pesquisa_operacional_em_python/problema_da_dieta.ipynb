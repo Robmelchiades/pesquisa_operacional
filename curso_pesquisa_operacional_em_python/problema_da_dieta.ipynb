{
 "cells": [
  {
   "cell_type": "code",
   "execution_count": 1,
   "metadata": {},
   "outputs": [],
   "source": [
    "from pulp import *     "
   ]
  },
  {
   "cell_type": "code",
   "execution_count": 2,
   "metadata": {},
   "outputs": [],
   "source": [
    "#Dados do problema\n",
    "rações = [0,1,2,3,4,5]\n",
    "\n",
    "custo = {0:0.74,\n",
    "         1:0.70,\n",
    "         2:0.83,\n",
    "         3:0.81,\n",
    "         4:0.73,\n",
    "         5:0.75}\n",
    "\n",
    "\n",
    "minimo = {0:200,   #Carboidrato\n",
    "          1:180,   #Proteína\n",
    "          2:150}   #Vitamina\n",
    "\n",
    "\n",
    "inf_nutri = [[50,60,30,40,20,45], \n",
    "             [27,30,40.5,20,30,50],\n",
    "             [50,80,60,30,20,40]]\n"
   ]
  },
  {
   "cell_type": "code",
   "execution_count": 3,
   "metadata": {},
   "outputs": [],
   "source": [
    "#Criar as variaveis de decisão\n",
    "var = LpVariable.dict(\"R\",(rações),lowBound = 0)"
   ]
  },
  {
   "cell_type": "code",
   "execution_count": 4,
   "metadata": {},
   "outputs": [],
   "source": [
    "#Criar o modelo\n",
    "model = LpProblem(\"Problemada_dieta\", LpMinimize)"
   ]
  },
  {
   "cell_type": "code",
   "execution_count": 5,
   "metadata": {},
   "outputs": [
    {
     "name": "stdout",
     "output_type": "stream",
     "text": [
      "Problemada_dieta:\n",
      "MINIMIZE\n",
      "0.74*R_0 + 0.7*R_1 + 0.83*R_2 + 0.81*R_3 + 0.73*R_4 + 0.75*R_5 + 0.0\n",
      "VARIABLES\n",
      "R_0 Continuous\n",
      "R_1 Continuous\n",
      "R_2 Continuous\n",
      "R_3 Continuous\n",
      "R_4 Continuous\n",
      "R_5 Continuous\n",
      "\n"
     ]
    }
   ],
   "source": [
    "#Criar a função objetivo\n",
    "lista_fo = []\n",
    "\n",
    "for x in var.keys():\n",
    "    lista_fo.append(var[x]*custo[x])\n",
    "\n",
    "model += lpSum(lista_fo)\n",
    "print(model)"
   ]
  },
  {
   "cell_type": "code",
   "execution_count": 6,
   "metadata": {},
   "outputs": [
    {
     "name": "stdout",
     "output_type": "stream",
     "text": [
      "Problemada_dieta:\n",
      "MINIMIZE\n",
      "0.74*R_0 + 0.7*R_1 + 0.83*R_2 + 0.81*R_3 + 0.73*R_4 + 0.75*R_5 + 0.0\n",
      "SUBJECT TO\n",
      "_C1: 50 R_0 + 60 R_1 + 30 R_2 + 40 R_3 + 20 R_4 + 45 R_5 >= 200\n",
      "\n",
      "_C2: 27 R_0 + 30 R_1 + 40.5 R_2 + 20 R_3 + 30 R_4 + 50 R_5 >= 180\n",
      "\n",
      "_C3: 50 R_0 + 80 R_1 + 60 R_2 + 30 R_3 + 20 R_4 + 40 R_5 >= 150\n",
      "\n",
      "VARIABLES\n",
      "R_0 Continuous\n",
      "R_1 Continuous\n",
      "R_2 Continuous\n",
      "R_3 Continuous\n",
      "R_4 Continuous\n",
      "R_5 Continuous\n",
      "\n"
     ]
    }
   ],
   "source": [
    "#Criar as restrições\n",
    "lista_rest = []\n",
    "for i in minimo.keys():\n",
    "    for j in rações:\n",
    "        lista_rest.append(var[j] * inf_nutri[i][j])\n",
    "    model += lpSum(lista_rest) >= minimo[i]\n",
    "    lista_rest = []\n",
    "    \n",
    "print(model)"
   ]
  },
  {
   "cell_type": "code",
   "execution_count": 7,
   "metadata": {},
   "outputs": [
    {
     "name": "stdout",
     "output_type": "stream",
     "text": [
      "Optimal\n",
      " \n",
      "O custo mínimo é de R$2.987878815\n",
      "R_1 = 1.1515152 \n",
      "R_5 = 2.9090909 \n"
     ]
    }
   ],
   "source": [
    "#Solução do modelo\n",
    "\n",
    "status = model.solve()\n",
    "\n",
    "print(LpStatus[status])\n",
    "\n",
    "print(\" \")\n",
    "\n",
    "print(f'O custo mínimo é de R${value(model.objective)}')\n",
    "\n",
    "for x in var.values():\n",
    "    if value(x) !=0:\n",
    "        print(f'{x} = {value(x)} ')\n",
    "    else:\n",
    "        continue"
   ]
  }
 ],
 "metadata": {
  "interpreter": {
   "hash": "cc1c0b36499cb045c8568e3ecab36d39122abfe8d569ffdfecaa4fcf3bb0ec3c"
  },
  "kernelspec": {
   "display_name": "Python 3.10.4 ('pesquisa_operacional')",
   "language": "python",
   "name": "python3"
  },
  "language_info": {
   "codemirror_mode": {
    "name": "ipython",
    "version": 3
   },
   "file_extension": ".py",
   "mimetype": "text/x-python",
   "name": "python",
   "nbconvert_exporter": "python",
   "pygments_lexer": "ipython3",
   "version": "3.10.4"
  },
  "orig_nbformat": 4
 },
 "nbformat": 4,
 "nbformat_minor": 2
}
