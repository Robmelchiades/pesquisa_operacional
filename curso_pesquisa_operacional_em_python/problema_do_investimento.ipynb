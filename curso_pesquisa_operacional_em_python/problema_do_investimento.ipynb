{
 "cells": [
  {
   "cell_type": "code",
   "execution_count": 1,
   "metadata": {},
   "outputs": [],
   "source": [
    "from pulp import *"
   ]
  },
  {
   "cell_type": "code",
   "execution_count": 2,
   "metadata": {},
   "outputs": [],
   "source": [
    "# Dados do problema\n",
    "capital = 1000000\n",
    "investimentos = [0,1,2,3,4]\n",
    "\n",
    "\n",
    "juros = {0:0.020,\n",
    "         1:0.030,\n",
    "         2:0.025,\n",
    "         3:0.032,\n",
    "         4:0.005}\n",
    "\n",
    "risco = {0:0.03,\n",
    "         1:0.08,\n",
    "         2:0.10,\n",
    "         3:0.13,\n",
    "         4:0.01}"
   ]
  },
  {
   "cell_type": "code",
   "execution_count": 9,
   "metadata": {},
   "outputs": [
    {
     "name": "stdout",
     "output_type": "stream",
     "text": [
      "{0: E_0, 1: E_1, 2: E_2, 3: E_3, 4: E_4}\n"
     ]
    }
   ],
   "source": [
    "# Criar as var_decisão\n",
    "var = LpVariable.dict(\"E\",(investimentos),lowBound = 70000,upBound = 599999.99)\n",
    "print(var)"
   ]
  },
  {
   "cell_type": "code",
   "execution_count": 5,
   "metadata": {},
   "outputs": [
    {
     "name": "stdout",
     "output_type": "stream",
     "text": [
      "Problema_investimento:\n",
      "MAXIMIZE\n",
      "None\n",
      "VARIABLES\n",
      "\n"
     ]
    }
   ],
   "source": [
    "# Criar o modelo\n",
    "model = LpProblem(\"Problema_investimento\",LpMaximize)\n",
    "print(model)"
   ]
  },
  {
   "cell_type": "code",
   "execution_count": 6,
   "metadata": {},
   "outputs": [
    {
     "name": "stdout",
     "output_type": "stream",
     "text": [
      "Problema_investimento:\n",
      "MAXIMIZE\n",
      "0.0194*E_0 + 0.0276*E_1 + 0.022500000000000003*E_2 + 0.02784*E_3 + 0.00495*E_4 + 0.0\n",
      "VARIABLES\n",
      "70000 <= E_0 <= 599999.99 Continuous\n",
      "70000 <= E_1 <= 599999.99 Continuous\n",
      "70000 <= E_2 <= 599999.99 Continuous\n",
      "70000 <= E_3 <= 599999.99 Continuous\n",
      "70000 <= E_4 <= 599999.99 Continuous\n",
      "\n"
     ]
    }
   ],
   "source": [
    "#criar a função objetivo\n",
    "lista_fo = []\n",
    "\n",
    "for x in var.keys():\n",
    "    lista_fo.append(juros[x]*(1-risco[x])*var[x])\n",
    "\n",
    "model += lpSum(lista_fo)\n",
    "print(model)"
   ]
  },
  {
   "cell_type": "code",
   "execution_count": 7,
   "metadata": {},
   "outputs": [
    {
     "name": "stdout",
     "output_type": "stream",
     "text": [
      "Problema_investimento:\n",
      "MAXIMIZE\n",
      "0.0194*E_0 + 0.0276*E_1 + 0.022500000000000003*E_2 + 0.02784*E_3 + 0.00495*E_4 + 0.0\n",
      "SUBJECT TO\n",
      "_C1: E_0 + E_1 + E_2 + E_3 + E_4 <= 1000000\n",
      "\n",
      "VARIABLES\n",
      "70000 <= E_0 <= 599999.99 Continuous\n",
      "70000 <= E_1 <= 599999.99 Continuous\n",
      "70000 <= E_2 <= 599999.99 Continuous\n",
      "70000 <= E_3 <= 599999.99 Continuous\n",
      "70000 <= E_4 <= 599999.99 Continuous\n",
      "\n"
     ]
    }
   ],
   "source": [
    "#criar as restrições\n",
    "lista_rest = []\n",
    "\n",
    "for x in var.values():\n",
    "    lista_rest.append(x)\n",
    "    \n",
    "model += lpSum(lista_rest) <= capital\n",
    "print(model)"
   ]
  },
  {
   "cell_type": "code",
   "execution_count": 8,
   "metadata": {},
   "outputs": [
    {
     "name": "stdout",
     "output_type": "stream",
     "text": [
      "Optimal\n",
      "O lucro foi de R$25227.4999976\n",
      " \n",
      "E_0 = 70000.0\n",
      "E_1 = 190000.01\n",
      "E_2 = 70000.0\n",
      "E_3 = 599999.99\n",
      "E_4 = 70000.0\n"
     ]
    }
   ],
   "source": [
    "#Solução do modelo\n",
    "status = model.solve()\n",
    "print(LpStatus[status])\n",
    "print (f'O lucro foi de R${value(model.objective)}')\n",
    "print(\" \")\n",
    "\n",
    "for x in var.values():\n",
    "    print(f'{x} = {value(x)}')"
   ]
  },
  {
   "cell_type": "code",
   "execution_count": null,
   "metadata": {},
   "outputs": [],
   "source": []
  }
 ],
 "metadata": {
  "interpreter": {
   "hash": "cc1c0b36499cb045c8568e3ecab36d39122abfe8d569ffdfecaa4fcf3bb0ec3c"
  },
  "kernelspec": {
   "display_name": "Python 3.10.4 ('pesquisa_operacional')",
   "language": "python",
   "name": "python3"
  },
  "language_info": {
   "codemirror_mode": {
    "name": "ipython",
    "version": 3
   },
   "file_extension": ".py",
   "mimetype": "text/x-python",
   "name": "python",
   "nbconvert_exporter": "python",
   "pygments_lexer": "ipython3",
   "version": "3.10.4"
  },
  "orig_nbformat": 4
 },
 "nbformat": 4,
 "nbformat_minor": 2
}
